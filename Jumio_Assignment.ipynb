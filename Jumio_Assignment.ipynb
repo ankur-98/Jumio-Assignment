{
 "cells": [
  {
   "cell_type": "markdown",
   "metadata": {
    "colab_type": "text",
    "id": "TFdR9pg3-Jar"
   },
   "source": [
    "# Imports\n"
   ]
  },
  {
   "cell_type": "code",
   "execution_count": 1,
   "metadata": {
    "colab": {
     "base_uri": "https://localhost:8080/",
     "height": 204
    },
    "colab_type": "code",
    "id": "vS6pFIYqjR9m",
    "outputId": "a99d4d0d-7afb-424d-cec0-80f488a3ce4b"
   },
   "outputs": [],
   "source": [
    "# %tensorflow_version 2.x"
   ]
  },
  {
   "cell_type": "code",
   "execution_count": 2,
   "metadata": {
    "colab": {
     "base_uri": "https://localhost:8080/",
     "height": 34
    },
    "colab_type": "code",
    "id": "61GqRSBBA7nN",
    "outputId": "3b2923e3-e235-4d0b-e9c4-cc13e02e5c26"
   },
   "outputs": [
    {
     "name": "stderr",
     "output_type": "stream",
     "text": [
      "Using TensorFlow backend.\n"
     ]
    }
   ],
   "source": [
    "import pandas as pd\n",
    "import numpy as np\n",
    "from tqdm import tqdm\n",
    "import os\n",
    "import seaborn as sns\n",
    "from matplotlib import pyplot as plt\n",
    "\n",
    "from sklearn.model_selection import StratifiedShuffleSplit\n",
    "from sklearn.metrics import accuracy_score\n",
    "\n",
    "import tensorflow as tf\n",
    "from tensorflow.keras import *\n",
    "from tensorflow.keras.layers import *\n",
    "from keras.preprocessing.image import ImageDataGenerator\n",
    "from keras_tqdm import TQDMNotebookCallback"
   ]
  },
  {
   "cell_type": "markdown",
   "metadata": {
    "colab_type": "text",
    "id": "SZ86qykl-OKZ"
   },
   "source": [
    "# Organizing Directory System"
   ]
  },
  {
   "cell_type": "code",
   "execution_count": 0,
   "metadata": {
    "colab": {},
    "colab_type": "code",
    "id": "zNrDLXMpjFLY"
   },
   "outputs": [],
   "source": [
    "os. getcwd()"
   ]
  },
  {
   "cell_type": "code",
   "execution_count": 0,
   "metadata": {
    "colab": {},
    "colab_type": "code",
    "id": "bDBbhWFrNCKw"
   },
   "outputs": [],
   "source": [
    "main_dir = os.getcwd()"
   ]
  },
  {
   "cell_type": "markdown",
   "metadata": {
    "colab_type": "text",
    "id": "Qys0SFTK-WVr"
   },
   "source": [
    "# Data loading and preprocessing"
   ]
  },
  {
   "cell_type": "code",
   "execution_count": 0,
   "metadata": {
    "colab": {},
    "colab_type": "code",
    "id": "wRVj15FwjJN6"
   },
   "outputs": [],
   "source": [
    "path = os.path.join(main_dir, 'mnist.csv')\n",
    "mnist = pd.read_csv(path)"
   ]
  },
  {
   "cell_type": "markdown",
   "metadata": {
    "colab_type": "text",
    "id": "u4HIE5Ut-cKP"
   },
   "source": [
    "### Confirming the dataframe columns"
   ]
  },
  {
   "cell_type": "code",
   "execution_count": 5,
   "metadata": {
    "colab": {
     "base_uri": "https://localhost:8080/",
     "height": 119
    },
    "colab_type": "code",
    "id": "jDWdhC_4jpY0",
    "outputId": "cd149bfb-4f7a-44f8-eff6-57133e63ccd2"
   },
   "outputs": [
    {
     "data": {
      "text/plain": [
       "Index(['label', 'pixel0', 'pixel1', 'pixel2', 'pixel3', 'pixel4', 'pixel5',\n",
       "       'pixel6', 'pixel7', 'pixel8',\n",
       "       ...\n",
       "       'pixel774', 'pixel775', 'pixel776', 'pixel777', 'pixel778', 'pixel779',\n",
       "       'pixel780', 'pixel781', 'pixel782', 'pixel783'],\n",
       "      dtype='object', length=785)"
      ]
     },
     "execution_count": 5,
     "metadata": {
      "tags": []
     },
     "output_type": "execute_result"
    }
   ],
   "source": [
    "mnist.columns"
   ]
  },
  {
   "cell_type": "markdown",
   "metadata": {
    "colab_type": "text",
    "id": "D9wAVL84-hk4"
   },
   "source": [
    "### Reshaping\n",
    "\n",
    "The inputs are reshaped back to image dimensions and the outputs are confirmed to be in integer format."
   ]
  },
  {
   "cell_type": "code",
   "execution_count": 0,
   "metadata": {
    "colab": {},
    "colab_type": "code",
    "id": "kNPtDIFejvDj"
   },
   "outputs": [],
   "source": [
    "X = np.array(mnist.iloc[:,1:]).reshape((-1,28,28,1))\n",
    "Y = np.array(mnist.iloc[:,0]).reshape((-1,1))"
   ]
  },
  {
   "cell_type": "code",
   "execution_count": 7,
   "metadata": {
    "colab": {
     "base_uri": "https://localhost:8080/",
     "height": 34
    },
    "colab_type": "code",
    "id": "tkC30Q55nIT6",
    "outputId": "e840512a-4a0c-4231-830f-86dc619ede3a"
   },
   "outputs": [
    {
     "data": {
      "text/plain": [
       "((42000, 28, 28, 1), (42000, 1))"
      ]
     },
     "execution_count": 7,
     "metadata": {
      "tags": []
     },
     "output_type": "execute_result"
    }
   ],
   "source": [
    "X.shape, Y.shape"
   ]
  },
  {
   "cell_type": "code",
   "execution_count": 8,
   "metadata": {
    "colab": {
     "base_uri": "https://localhost:8080/",
     "height": 34
    },
    "colab_type": "code",
    "id": "B6UbkXdsnVUu",
    "outputId": "96d7cfe9-72f3-4d13-9440-5f08ec15fc4b"
   },
   "outputs": [
    {
     "data": {
      "text/plain": [
       "{0, 1, 2, 3, 4, 5, 6, 7, 8, 9}"
      ]
     },
     "execution_count": 8,
     "metadata": {
      "tags": []
     },
     "output_type": "execute_result"
    }
   ],
   "source": [
    "set(mnist['label'])"
   ]
  },
  {
   "cell_type": "markdown",
   "metadata": {
    "colab_type": "text",
    "id": "NtI5BLID-ycg"
   },
   "source": [
    "### Analysing distribution of classes in data\n",
    "\n",
    "Its uniformly distributed among all classes"
   ]
  },
  {
   "cell_type": "code",
   "execution_count": 9,
   "metadata": {
    "colab": {
     "base_uri": "https://localhost:8080/",
     "height": 281
    },
    "colab_type": "code",
    "id": "kgCWMxfdqTcl",
    "outputId": "20da6961-106b-466f-c833-eca83a44ba8f"
   },
   "outputs": [
    {
     "data": {
      "image/png": "[encoded data removed]",
      "text/plain": [
       "<Figure size 432x288 with 1 Axes>"
      ]
     },
     "metadata": {
      "tags": []
     },
     "output_type": "display_data"
    }
   ],
   "source": [
    "_ = pd.DataFrame(Y).hist()\n",
    "_ = plt.title('Data Distribution')"
   ]
  },
  {
   "cell_type": "markdown",
   "metadata": {
    "colab_type": "text",
    "id": "5KKmLi8R-8mg"
   },
   "source": [
    "### Stratified Spliting\n",
    "\n",
    "Stratified split and distribution confirmed to be uniform"
   ]
  },
  {
   "cell_type": "code",
   "execution_count": 0,
   "metadata": {
    "colab": {},
    "colab_type": "code",
    "id": "XyyA7OG7nkGj"
   },
   "outputs": [],
   "source": [
    "sss = StratifiedShuffleSplit(n_splits=1, test_size=0.3, random_state=123)\n",
    "for train_index, valid_index in sss.split(X, Y):\n",
    "  X_train, X_valid = X[train_index], X[valid_index]\n",
    "  Y_train, Y_valid = Y[train_index], Y[valid_index]"
   ]
  },
  {
   "cell_type": "code",
   "execution_count": 11,
   "metadata": {
    "colab": {
     "base_uri": "https://localhost:8080/",
     "height": 34
    },
    "colab_type": "code",
    "id": "lchZQTtQpgYh",
    "outputId": "4528ef3b-9aba-451f-8b2e-153fa5f63ed3"
   },
   "outputs": [
    {
     "data": {
      "text/plain": [
       "((29400, 28, 28, 1), (29400, 1), (12600, 28, 28, 1), (12600, 1))"
      ]
     },
     "execution_count": 11,
     "metadata": {
      "tags": []
     },
     "output_type": "execute_result"
    }
   ],
   "source": [
    "X_train.shape, Y_train.shape, X_valid.shape, Y_valid.shape"
   ]
  },
  {
   "cell_type": "code",
   "execution_count": 12,
   "metadata": {
    "colab": {
     "base_uri": "https://localhost:8080/",
     "height": 281
    },
    "colab_type": "code",
    "id": "uiqbL6otp_u2",
    "outputId": "d5278403-96dc-4ad1-a7a5-727aa52944c9"
   },
   "outputs": [
    {
     "data": {
      "image/png": "[encoded data removed]",
      "text/plain": [
       "<Figure size 432x288 with 1 Axes>"
      ]
     },
     "metadata": {
      "tags": []
     },
     "output_type": "display_data"
    }
   ],
   "source": [
    "_ = pd.DataFrame(Y_valid).hist()\n",
    "_ = plt.title('Data Distribution')"
   ]
  },
  {
   "cell_type": "markdown",
   "metadata": {
    "colab_type": "text",
    "id": "BSRIFnmS_MNW"
   },
   "source": [
    "### Image Augmentation and Visualization\n",
    "\n",
    "To increase capacity of model indirectly and add variability to the model learning features"
   ]
  },
  {
   "cell_type": "code",
   "execution_count": 0,
   "metadata": {
    "colab": {},
    "colab_type": "code",
    "id": "h6vABLctsEHN"
   },
   "outputs": [],
   "source": [
    "image_gen_train = ImageDataGenerator(\n",
    "                                      rotation_range=30,  \n",
    "                                      zoom_range = 0.20,  \n",
    "                                      width_shift_range=0.2, \n",
    "                                      height_shift_range=0.2\n",
    "                  )\n",
    "image_gen_train.fit(X_train)"
   ]
  },
  {
   "cell_type": "code",
   "execution_count": 0,
   "metadata": {
    "colab": {},
    "colab_type": "code",
    "id": "FyFaaPzkvas3"
   },
   "outputs": [],
   "source": [
    "x_aug = image_gen_train.flow(X_train, batch_size=5, seed=12)\n",
    "augmented_images = x_aug.next()"
   ]
  },
  {
   "cell_type": "code",
   "execution_count": 15,
   "metadata": {
    "colab": {
     "base_uri": "https://localhost:8080/",
     "height": 161
    },
    "colab_type": "code",
    "id": "AIBtQbpEvita",
    "outputId": "539b8133-0189-4a59-9e72-fd780d1ac18b"
   },
   "outputs": [
    {
     "data": {
      "image/png": "[encoded data removed]",
      "text/plain": [
       "<Figure size 720x720 with 5 Axes>"
      ]
     },
     "metadata": {
      "tags": []
     },
     "output_type": "display_data"
    }
   ],
   "source": [
    "def plotImages(images_arr):\n",
    "    fig, axes = plt.subplots(1, 5, figsize=(10,10))\n",
    "    axes = axes.flatten()\n",
    "    for img, ax in zip( images_arr, axes):\n",
    "        ax.imshow(img.squeeze(axis=-1))\n",
    "        ax.axis('on')\n",
    "    plt.tight_layout()\n",
    "    plt.show()\n",
    "plotImages(augmented_images)"
   ]
  },
  {
   "cell_type": "markdown",
   "metadata": {
    "colab_type": "text",
    "id": "lJL631eo_bp8"
   },
   "source": [
    "# Parametric Model"
   ]
  },
  {
   "cell_type": "markdown",
   "metadata": {
    "colab_type": "text",
    "id": "4RYLqaws_p2R"
   },
   "source": [
    "### CNN based Deep Learning Model\n",
    "\n",
    "Design time methodologies used:\n",
    "* Using similar fasioned blocks of CNN.\n",
    "* Using parameter learning conv2D instead of pooling layers.\n",
    "* Increasing fasion of filters/channels down the layers.\n",
    "* Batchnorms to add stability.\n",
    "* Dropouts to regularize and learn unique features.\n",
    "* Normal distribution in classification layer to speed up parameter learning.\n",
    "* Relu / Selu activations for smoother gradient propagation.\n",
    "* Adadelta optimization to account for 2nd order momentums while gradient descent and make use of auto adaptation to learning rate.\n",
    "* Glorot initialization to consider layer dimentions while initializing.\n",
    "* Lecun initializer and Alpha Dropouts for selu to maintain normalized inputs.\n",
    "* Dropping down neural units from `Flatten layer` to directly classifier to have denser representation being classified directly."
   ]
  },
  {
   "cell_type": "code",
   "execution_count": 0,
   "metadata": {
    "colab": {},
    "colab_type": "code",
    "id": "eQpIzYyNqC2k"
   },
   "outputs": [],
   "source": [
    "def get_model():\n",
    "\n",
    "  activation = 'relu'\n",
    "  optimizer = tf.keras.optimizers.Adadelta(learning_rate=1.0)\n",
    "  initializer = \"glorot_normal\"\n",
    "  drop_prob = 0.5\n",
    "\n",
    "  def ConvBlock(model, filters, kernel, strides=1, padding='valid'):\n",
    "    model = Conv2D(filters, kernel_size=kernel, strides=strides, \n",
    "                   padding=padding, kernel_initializer=initializer)(model)\n",
    "    model = BatchNormalization()(model)\n",
    "    model = Activation(activation)(model)\n",
    "    return model\n",
    "  \n",
    "  def Dropping(model):\n",
    "    if activation == 'selu':\n",
    "      model = AlphaDropout(drop_prob)(model)\n",
    "    else:\n",
    "      model = Dropout(drop_prob)(model)\n",
    "    return model\n",
    "\n",
    "  i = Input(shape=(28,28,1))\n",
    "\n",
    "  m = ConvBlock(i, filters=32, kernel=3)\n",
    "  m = ConvBlock(m, filters=32, kernel=3)\n",
    "  m = ConvBlock(m, filters=32, kernel=5, strides=2, padding='same')\n",
    "  m = Dropping(m)\n",
    "\n",
    "  m = ConvBlock(m, filters=64, kernel=3)\n",
    "  m = ConvBlock(m, filters=64, kernel=3)\n",
    "  m = ConvBlock(m, filters=64, kernel=5, strides=2, padding='same')\n",
    "  m = Dropping(m)\n",
    "\n",
    "  m = ConvBlock(m, filters=128, kernel=4)\n",
    "  m = Flatten()(m)\n",
    "  m = Dropping(m)\n",
    "  \n",
    "  o = Dense(10, activation='softmax', kernel_initializer=initializer)(m)\n",
    "\n",
    "  model = Model(i,o)\n",
    "  model.compile(optimizer=optimizer, loss=\"sparse_categorical_crossentropy\", metrics=[\"accuracy\"])\n",
    "\n",
    "  return model"
   ]
  },
  {
   "cell_type": "markdown",
   "metadata": {
    "colab_type": "text",
    "id": "QvsgrW55ClQU"
   },
   "source": [
    "### Ensembling many models"
   ]
  },
  {
   "cell_type": "code",
   "execution_count": 0,
   "metadata": {
    "colab": {},
    "colab_type": "code",
    "id": "1uffglSosFJW"
   },
   "outputs": [],
   "source": [
    "models = []\n",
    "num_models = 10\n",
    "for _ in range(num_models):\n",
    "  models.append(get_model())"
   ]
  },
  {
   "cell_type": "markdown",
   "metadata": {
    "colab_type": "text",
    "id": "QU8VBpA2DCOO"
   },
   "source": [
    "Train time methodologies adopted:\n",
    "* Ensembling using models with either relu activations or selu activations.\n",
    "* Batch size 128 to have better approximation of gradients.\n",
    "* Checkpointing at best loss over all the epochs instead of using early stopping with `patience` argument.\n",
    "* Training and Validating on random subset of batches every epoch to give a regularization effect while also iterating through the epochs faster keeping in mind that the trade off is not much since the data samples are very much similar."
   ]
  },
  {
   "cell_type": "code",
   "execution_count": 0,
   "metadata": {
    "colab": {},
    "colab_type": "code",
    "id": "-Aywx1bLtrp3"
   },
   "outputs": [],
   "source": [
    "epochs = 200\n",
    "batch_size = 128\n",
    "hist = []\n",
    "\n",
    "TQDM = TQDMNotebookCallback()\n",
    "\n",
    "for i in tqdm(range(num_models), desc=\"Training several models\"):\n",
    "\n",
    "  checkpoint = tf.keras.callbacks.ModelCheckpoint(os.path.join(main_dir,'model_checkpoint') + '_' + str(i+6) + \"_val_loss.h5\",\n",
    "                                         monitor='val_loss', verbose=0, save_best_only=True,\n",
    "                                         save_weights_only=False, mode='auto', period=1)\n",
    "\n",
    "  hist.append(\n",
    "        models[i].fit(image_gen_train.flow(X_train, Y_train, batch_size=batch_size), \n",
    "                          steps_per_epoch=(X_train.shape[0]//batch_size)//4,  \n",
    "                          validation_data=(X_valid, Y_valid),\n",
    "                          validation_steps=(X_valid.shape[0]//batch_size)//4,\n",
    "                          epochs=epochs,\n",
    "                          verbose=0, \n",
    "                          workers=-1, use_multiprocessing=True,\n",
    "                          callbacks=[\n",
    "                                      checkpoint,\n",
    "                                      TQDM,\n",
    "                          ],\n",
    "        )\n",
    "  )\n",
    "  print(models[i].evaluate(X_train, Y_train))\n",
    "  print(models[i].evaluate(X_valid, Y_valid))"
   ]
  },
  {
   "cell_type": "markdown",
   "metadata": {
    "colab_type": "text",
    "id": "ZF-Iri-mGc16"
   },
   "source": [
    "# Loading Trained Models"
   ]
  },
  {
   "cell_type": "markdown",
   "metadata": {
    "colab_type": "text",
    "id": "GhzeT3MGNFM_"
   },
   "source": [
    "### Utility Function"
   ]
  },
  {
   "cell_type": "code",
   "execution_count": 0,
   "metadata": {
    "colab": {},
    "colab_type": "code",
    "id": "Nyd9MbZoI-RY"
   },
   "outputs": [],
   "source": [
    "def plot(X, Y, model):\n",
    "\n",
    "  class metrics():\n",
    "    def __init__(self, cm):\n",
    "      self.cm = cm\n",
    "      self.FP = cm.sum(axis=0) - np.diag(cm)  \n",
    "      self.FN = cm.sum(axis=1) - np.diag(cm)\n",
    "      self.TP = np.diag(cm)\n",
    "      self.TN = cm.sum().sum() - (self.FP + self.FN + self.TP)\n",
    "      self.N = self.FP + self.TN\n",
    "      self.P = self.TP + self.FN\n",
    "      self.T = self.TP + self.TN\n",
    "\n",
    "    def FPR(self):\n",
    "      # 1-specificity / fallout rate\n",
    "      return self.FP/self.N\n",
    "\n",
    "    def TPR(self):\n",
    "      # sensitivity / recall\n",
    "      return self.TP/self.P\n",
    "    \n",
    "    def Acc(self):\n",
    "      Total = self.P + self.N\n",
    "      return (self.T/Total)*100\n",
    "\n",
    "  Y_pred = np.argmax(model.predict(X), axis=-1)\n",
    "  confusion_matrix = tf.math.confusion_matrix(Y, Y_pred)\n",
    "  classes=range(10)\n",
    "  # confusion_matrix = tf.cast(tf.keras.utils.normalize(confusion_matrix), dtype='float16')\n",
    "  df_cm = pd.DataFrame(confusion_matrix.numpy(), index=[i for i in classes],\n",
    "                       columns=[i for i in classes])\n",
    "  plt.figure(figsize=(3, 3), dpi=100)\n",
    "  sns.heatmap(df_cm, annot=False, cmap=\"YlGnBu\")\n",
    "  plt.title('confusion matrix')\n",
    "  plt.show()\n",
    "\n",
    "  M = metrics(confusion_matrix.numpy())\n",
    "  print(\"\\nConfusion Matrix:\")\n",
    "  print(M.cm)\n",
    "  print(\"\\nAccuracy: \", M.Acc(), \"%\")\n",
    "  print(\"\\nFPR: \", M.FPR())\n",
    "  print(\"\\nTPR: \", M.TPR())"
   ]
  },
  {
   "cell_type": "markdown",
   "metadata": {
    "colab_type": "text",
    "id": "3ZvVEcPBGuoQ"
   },
   "source": [
    "### Using Checkpoints"
   ]
  },
  {
   "cell_type": "markdown",
   "metadata": {
    "colab_type": "text",
    "id": "1BBk1lyleE55"
   },
   "source": [
    "* Models 0-5: Use SeLU Activations\n",
    "* Models 6-10: Use ReLU Activations"
   ]
  },
  {
   "cell_type": "code",
   "execution_count": 17,
   "metadata": {
    "colab": {
     "base_uri": "https://localhost:8080/",
     "height": 204
    },
    "colab_type": "code",
    "id": "FjiDS-tfWgr5",
    "outputId": "42d2b8b1-cb2f-4c20-f6c6-fd886ebfbbee"
   },
   "outputs": [
    {
     "name": "stdout",
     "output_type": "stream",
     "text": [
      "Loaded Model 0\n",
      "Loaded Model 1\n",
      "Loaded Model 2\n",
      "Loaded Model 3\n",
      "Loaded Model 4\n",
      "Loaded Model 5\n",
      "Loaded Model 6\n",
      "Loaded Model 7\n",
      "Loaded Model 8\n",
      "Loaded Model 9\n",
      "Loaded Model 10\n"
     ]
    }
   ],
   "source": [
    "m = []\n",
    "for i in range(11):\n",
    "  m.append(tf.keras.models.load_model(\n",
    "    filepath=os.path.join(main_dir, 'model_checkpoint_'+str(i)+'_val_loss.h5'), \n",
    "    custom_objects=None, compile=True\n",
    "  ))\n",
    "  print(\"Loaded Model\",i)"
   ]
  },
  {
   "cell_type": "markdown",
   "metadata": {
    "colab_type": "text",
    "id": "RP01DYK_Gz7I"
   },
   "source": [
    "### Evaluating Metrics on Loaded Ccheckpoints (Individual Model Metrics)"
   ]
  },
  {
   "cell_type": "code",
   "execution_count": 99,
   "metadata": {
    "colab": {
     "base_uri": "https://localhost:8080/",
     "height": 1000
    },
    "colab_type": "code",
    "id": "XvxWhA8jyb4I",
    "outputId": "5221965a-35fb-4869-acab-58e577ffabec",
    "scrolled": false
   },
   "outputs": [
    {
     "name": "stdout",
     "output_type": "stream",
     "text": [
      "\n",
      "\n",
      " Model 0\n",
      "Train: [0.5319531384604986, 0.982449]\n",
      "Valid: [0.5361831027320592, 0.9835714]\n"
     ]
    },
    {
     "data": {
      "image/png": "[encoded data removed]",
      "text/plain": [
       "<Figure size 300x300 with 2 Axes>"
      ]
     },
     "metadata": {
      "tags": []
     },
     "output_type": "display_data"
    },
    {
     "name": "stdout",
     "output_type": "stream",
     "text": [
      "\n",
      "Confusion Matrix:\n",
      "[[1239    0    0    0    0    0    1    0    0    0]\n",
      " [   0 1376    5    0    0    0    0   24    0    0]\n",
      " [   2    0 1240    0    0    0    0    7    4    0]\n",
      " [   0    0    7 1269    0    7    0   14    8    0]\n",
      " [   0    1    0    0 1205    0    2    4    1    9]\n",
      " [   1    4    0    1    0 1090   33    0    4    6]\n",
      " [   3    1    1    0    2    0 1234    0    0    0]\n",
      " [   0    0    2    0    1    0    0 1314    2    1]\n",
      " [   3    0    7    0    2    0    6    1 1197    3]\n",
      " [   5    0    0    0    5    0    0   10    7 1229]]\n",
      "\n",
      "Accuracy:  [99.88095238 99.72222222 99.72222222 99.70634921 99.78571429 99.55555556\n",
      " 99.61111111 99.47619048 99.61904762 99.63492063] %\n",
      "\n",
      "FPR:  [1.23239437e-03 5.35953551e-04 1.93883846e-03 8.85347499e-05\n",
      " 8.78889084e-04 6.10766949e-04 3.69750858e-03 5.31914894e-03\n",
      " 2.28450927e-03 1.67489422e-03]\n",
      "\n",
      "TPR:  [0.99919355 0.97935943 0.9896249  0.97241379 0.98608838 0.95697981\n",
      " 0.99435939 0.99545455 0.98195242 0.97850318]\n",
      "\n",
      "\n",
      " Model 1\n",
      "Train: [2.0726172231401034, 0.94214284]\n",
      "Valid: [2.0047533822513297, 0.9430159]\n"
     ]
    },
    {
     "data": {
      "image/png": "[encoded data removed]",
      "text/plain": [
       "<Figure size 300x300 with 2 Axes>"
      ]
     },
     "metadata": {
      "tags": []
     },
     "output_type": "display_data"
    },
    {
     "name": "stdout",
     "output_type": "stream",
     "text": [
      "\n",
      "Confusion Matrix:\n",
      "[[1233    0    0    0    0    0    7    0    0    0]\n",
      " [   0 1395    5    0    1    0    0    4    0    0]\n",
      " [  11    4 1183    0    7    0    2   43    3    0]\n",
      " [   1    4   52 1025    2   10    0  164   44    3]\n",
      " [   0    3    0    0 1214    0    0    1    0    4]\n",
      " [   4   13    0    0    1  909  197    1    4   10]\n",
      " [   1    2    0    0    6    0 1232    0    0    0]\n",
      " [   0    4    5    0    4    0    0 1307    0    0]\n",
      " [   1    2    6    0    5    0   22    1 1180    2]\n",
      " [   8    1    1    0   18    0    0   18    6 1204]]\n",
      "\n",
      "Accuracy:  [99.73809524 99.65873016 98.8968254  97.77777778 99.58730159 98.0952381\n",
      " 98.11904762 98.05555556 99.23809524 99.43650794] %\n",
      "\n",
      "FPR:  [0.00228873 0.00294774 0.0060809  0.         0.00386711 0.00087252\n",
      " 0.02007219 0.02056738 0.00500835 0.00167489]\n",
      "\n",
      "TPR:  [0.99435484 0.99288256 0.94413408 0.78544061 0.99345336 0.79806848\n",
      " 0.99274778 0.99015152 0.96800656 0.95859873]\n",
      "\n",
      "\n",
      " Model 2\n",
      "Train: [1.4756949760850444, 0.95343536]\n",
      "Valid: [1.390890215319701, 0.9565873]\n"
     ]
    },
    {
     "data": {
      "image/png": "[encoded data removed]",
      "text/plain": [
       "<Figure size 300x300 with 2 Axes>"
      ]
     },
     "metadata": {
      "tags": []
     },
     "output_type": "display_data"
    },
    {
     "name": "stdout",
     "output_type": "stream",
     "text": [
      "\n",
      "Confusion Matrix:\n",
      "[[1237    0    0    0    0    0    3    0    0    0]\n",
      " [   0 1399    5    0    0    0    1    0    0    0]\n",
      " [  16    2 1221    0    0    0    9    4    1    0]\n",
      " [  11    2   13 1238    0   12    0   15   14    0]\n",
      " [   0    1    0    0 1213    0    5    0    0    3]\n",
      " [  28    6    1    0    0  858  240    0    3    3]\n",
      " [   1    1    0    0    1    0 1238    0    0    0]\n",
      " [   6   38    9    0    7    0    0 1259    1    0]\n",
      " [   9    1    4    0    3    0   15    1 1184    2]\n",
      " [  11    1    1    0   24    0    2    4    7 1206]]\n",
      "\n",
      "Accuracy:  [99.32539683 99.53968254 99.48412698 99.46825397 99.65079365 97.67460317\n",
      " 97.79365079 99.32539683 99.51587302 99.53968254] %\n",
      "\n",
      "FPR:  [0.00721831 0.00464493 0.00290826 0.         0.00307611 0.00104703\n",
      " 0.02420988 0.00212766 0.00228451 0.00070522]\n",
      "\n",
      "TPR:  [0.99758065 0.99572954 0.97446129 0.948659   0.99263502 0.75329236\n",
      " 0.99758259 0.95378788 0.97128794 0.96019108]\n",
      "\n",
      "\n",
      " Model 3\n",
      "Train: [1.2811530386793513, 0.9429592]\n",
      "Valid: [1.2536938034079517, 0.9431746]\n"
     ]
    },
    {
     "data": {
      "image/png": "[encoded data removed]",
      "text/plain": [
       "<Figure size 300x300 with 2 Axes>"
      ]
     },
     "metadata": {
      "tags": []
     },
     "output_type": "display_data"
    },
    {
     "name": "stdout",
     "output_type": "stream",
     "text": [
      "\n",
      "Confusion Matrix:\n",
      "[[1233    0    0    0    0    0    7    0    0    0]\n",
      " [   2 1397    3    0    1    0    2    0    0    0]\n",
      " [  21    3 1201    0    1    0    9   17    1    0]\n",
      " [   2    5   15 1166    0    9    4   61   42    1]\n",
      " [   0    2    0    0 1203    0   10    0    0    7]\n",
      " [   9    9    1    1    0  781  330    0    3    5]\n",
      " [   0    1    0    0    0    0 1240    0    0    0]\n",
      " [   5   16    1    0    9    0    0 1286    1    2]\n",
      " [   6    3    2    0    3    0   28    3 1168    6]\n",
      " [  11    1    0    0   14    0    2   14    5 1209]]\n",
      "\n",
      "Accuracy:  [99.5        99.61904762 99.41269841 98.88888889 99.62698413 97.08730159\n",
      " 96.88095238 98.97619048 99.18253968 99.46031746] %\n",
      "\n",
      "FPR:  [4.92957746e-03 3.57302367e-03 1.93883846e-03 8.85347499e-05\n",
      " 2.46088944e-03 7.85271791e-04 3.45100801e-02 8.42198582e-03\n",
      " 4.56901854e-03 1.85119887e-03]\n",
      "\n",
      "TPR:  [0.99435484 0.99430605 0.9584996  0.89348659 0.98445172 0.6856892\n",
      " 0.9991942  0.97424242 0.95816243 0.96257962]\n",
      "\n",
      "\n",
      " Model 4\n",
      "Train: [0.5082264033199281, 0.9808844]\n",
      "Valid: [0.5131768622642406, 0.981746]\n"
     ]
    },
    {
     "data": {
      "image/png": "[encoded data removed]",
      "text/plain": [
       "<Figure size 300x300 with 2 Axes>"
      ]
     },
     "metadata": {
      "tags": []
     },
     "output_type": "display_data"
    },
    {
     "name": "stdout",
     "output_type": "stream",
     "text": [
      "\n",
      "Confusion Matrix:\n",
      "[[1238    0    0    0    0    0    1    0    1    0]\n",
      " [   0 1396    5    0    0    0    0    3    1    0]\n",
      " [  11    0 1226    0    0    0    5    8    3    0]\n",
      " [   0    2    3 1265    0    8    0   21    4    2]\n",
      " [   1    2    0    0 1179    0    7    1    0   32]\n",
      " [   1    3    1    1    0 1086   32    0   10    5]\n",
      " [   6    1    1    0    2    0 1230    0    1    0]\n",
      " [   0    7    3    0    4    0    0 1304    1    1]\n",
      " [   0    1    1    0    2    0    4    1 1205    5]\n",
      " [   3    1    1    0    1    0    0    4    5 1241]]\n",
      "\n",
      "Accuracy:  [99.80952381 99.79365079 99.66666667 99.67460317 99.58730159 99.51587302\n",
      " 99.52380952 99.57142857 99.68253968 99.52380952] %\n",
      "\n",
      "FPR:  [1.93661972e-03 1.51853506e-03 1.32193531e-03 8.85347499e-05\n",
      " 7.91000176e-04 6.98019370e-04 4.31376001e-03 3.36879433e-03\n",
      " 2.28450927e-03 3.96685472e-03]\n",
      "\n",
      "TPR:  [0.9983871  0.99359431 0.97845172 0.96934866 0.96481178 0.95346795\n",
      " 0.99113618 0.98787879 0.98851518 0.98805732]\n",
      "\n",
      "\n",
      " Model 5\n",
      "Train: [1.2132374766730958, 0.962551]\n",
      "Valid: [1.1125461312445946, 0.9654762]\n"
     ]
    },
    {
     "data": {
      "image/png": "[encoded data removed]",
      "text/plain": [
       "<Figure size 300x300 with 2 Axes>"
      ]
     },
     "metadata": {
      "tags": []
     },
     "output_type": "display_data"
    },
    {
     "name": "stdout",
     "output_type": "stream",
     "text": [
      "\n",
      "Confusion Matrix:\n",
      "[[1238    0    0    0    0    0    2    0    0    0]\n",
      " [   2 1382    6    0    0    0    0   14    1    0]\n",
      " [   8    1 1220    0    0    0    1   21    2    0]\n",
      " [   4    0   13 1203    0    2    0   79    2    2]\n",
      " [   1    1    0    0 1197    0    1    4    0   18]\n",
      " [  14    6    1    6    0  978  111    5   12    6]\n",
      " [   9    2    0    0    2    0 1228    0    0    0]\n",
      " [   0    0    1    0    2    0    0 1316    0    1]\n",
      " [  10    0   10    0    2    0    6    4 1172   15]\n",
      " [   6    0    0    0    3    0    0   13    3 1231]]\n",
      "\n",
      "Accuracy:  [99.55555556 99.73809524 99.49206349 99.14285714 99.73015873 98.70634921\n",
      " 98.93650794 98.85714286 99.46825397 99.46825397] %\n",
      "\n",
      "FPR:  [0.00475352 0.00089326 0.002732   0.00053121 0.000791   0.0001745\n",
      " 0.01065235 0.01241135 0.00175731 0.0037024 ]\n",
      "\n",
      "TPR:  [0.9983871  0.98362989 0.97366321 0.92183908 0.97954173 0.85864794\n",
      " 0.98952458 0.9969697  0.96144381 0.98009554]\n",
      "\n",
      "\n",
      " Model 6\n",
      "Train: [0.0198749081239652, 0.9947279]\n",
      "Valid: [0.028321011440098156, 0.9931746]\n"
     ]
    },
    {
     "data": {
      "image/png": "[encoded data removed]",
      "text/plain": [
       "<Figure size 300x300 with 2 Axes>"
      ]
     },
     "metadata": {
      "tags": []
     },
     "output_type": "display_data"
    },
    {
     "name": "stdout",
     "output_type": "stream",
     "text": [
      "\n",
      "Confusion Matrix:\n",
      "[[1239    0    0    0    0    0    0    0    0    1]\n",
      " [   0 1399    2    0    0    0    0    4    0    0]\n",
      " [   1    0 1237    2    0    0    0   11    2    0]\n",
      " [   0    0    0 1297    0    5    0    2    1    0]\n",
      " [   1    0    0    0 1216    0    0    0    0    5]\n",
      " [   0    1    0    1    0 1129    2    0    3    3]\n",
      " [   2    2    0    0    3    1 1231    0    2    0]\n",
      " [   0    2    0    0    1    0    0 1315    1    1]\n",
      " [   0    2    2    0    4    1    0    1 1205    4]\n",
      " [   1    0    0    0    4    1    0    3    1 1246]]\n",
      "\n",
      "Accuracy:  [99.95238095 99.8968254  99.84126984 99.91269841 99.85714286 99.85714286\n",
      " 99.9047619  99.79365079 99.80952381 99.80952381] %\n",
      "\n",
      "FPR:  [0.00044014 0.00062528 0.00035252 0.0002656  0.00105467 0.00069802\n",
      " 0.00017607 0.0018617  0.00087866 0.00123413]\n",
      "\n",
      "TPR:  [0.99919355 0.99572954 0.98723065 0.99386973 0.99509002 0.99122037\n",
      " 0.99194198 0.99621212 0.98851518 0.99203822]\n",
      "\n",
      "\n",
      " Model 7\n",
      "Train: [0.020647995247388473, 0.9939796]\n",
      "Valid: [0.028907734853066993, 0.99277776]\n"
     ]
    },
    {
     "data": {
      "image/png": "[encoded data removed]",
      "text/plain": [
       "<Figure size 300x300 with 2 Axes>"
      ]
     },
     "metadata": {
      "tags": []
     },
     "output_type": "display_data"
    },
    {
     "name": "stdout",
     "output_type": "stream",
     "text": [
      "\n",
      "Confusion Matrix:\n",
      "[[1238    0    0    0    0    0    2    0    0    0]\n",
      " [   0 1395    0    0    0    0    0   10    0    0]\n",
      " [   0    0 1246    0    0    1    0    3    3    0]\n",
      " [   0    1    0 1293    0    7    0    3    1    0]\n",
      " [   0    1    0    0 1218    0    0    0    1    2]\n",
      " [   1    0    0    1    0 1131    2    0    3    1]\n",
      " [   0    2    0    0    2    0 1235    0    2    0]\n",
      " [   0    1    1    0    2    0    0 1316    0    0]\n",
      " [   0    3    3    1    1    2    0    0 1206    3]\n",
      " [   1    0    2    0    8    1    0    9    4 1231]]\n",
      "\n",
      "Accuracy:  [99.96825397 99.85714286 99.8968254  99.88888889 99.86507937 99.84920635\n",
      " 99.92063492 99.76984127 99.78571429 99.75396825] %\n",
      "\n",
      "FPR:  [0.00017606 0.0007146  0.00052877 0.00017707 0.00114256 0.00095978\n",
      " 0.00035214 0.00221631 0.00123012 0.00052891]\n",
      "\n",
      "TPR:  [0.9983871  0.99288256 0.99441341 0.9908046  0.99672668 0.99297629\n",
      " 0.99516519 0.9969697  0.98933552 0.98009554]\n",
      "\n",
      "\n",
      " Model 8\n",
      "Train: [0.021853088483970794, 0.99404764]\n",
      "Valid: [0.02989576115750619, 0.99277776]\n"
     ]
    },
    {
     "data": {
      "image/png": "[encoded data removed]",
      "text/plain": [
       "<Figure size 300x300 with 2 Axes>"
      ]
     },
     "metadata": {
      "tags": []
     },
     "output_type": "display_data"
    },
    {
     "name": "stdout",
     "output_type": "stream",
     "text": [
      "\n",
      "Confusion Matrix:\n",
      "[[1239    0    0    0    0    0    1    0    0    0]\n",
      " [   0 1395    2    0    0    1    0    7    0    0]\n",
      " [   0    0 1247    0    2    0    0    3    1    0]\n",
      " [   0    0    1 1294    0    8    0    1    1    0]\n",
      " [   1    0    0    0 1211    0    0    2    1    7]\n",
      " [   1    0    0    2    0 1132    3    0    0    1]\n",
      " [   1    2    1    0    2    2 1233    0    0    0]\n",
      " [   0    2    1    0    1    0    0 1316    0    0]\n",
      " [   1    1    4    0    2    2    2    0 1205    2]\n",
      " [   2    0    2    0    4    1    0    7    3 1237]]\n",
      "\n",
      "Accuracy:  [99.94444444 99.88095238 99.86507937 99.8968254  99.82539683 99.83333333\n",
      " 99.88888889 99.80952381 99.84126984 99.76984127] %\n",
      "\n",
      "FPR:  [0.00052817 0.00044663 0.00096942 0.00017707 0.00096678 0.00122153\n",
      " 0.00052822 0.00177305 0.00052719 0.00088152]\n",
      "\n",
      "TPR:  [0.99919355 0.99288256 0.99521149 0.99157088 0.99099836 0.99385426\n",
      " 0.99355359 0.9969697  0.98851518 0.98487261]\n",
      "\n",
      "\n",
      " Model 9\n",
      "Train: [0.020386090367475202, 0.99465984]\n",
      "Valid: [0.027071662379002884, 0.9925397]\n"
     ]
    },
    {
     "data": {
      "image/png": "[encoded data removed]",
      "text/plain": [
       "<Figure size 300x300 with 2 Axes>"
      ]
     },
     "metadata": {
      "tags": []
     },
     "output_type": "display_data"
    },
    {
     "name": "stdout",
     "output_type": "stream",
     "text": [
      "\n",
      "Confusion Matrix:\n",
      "[[1238    0    0    0    0    0    2    0    0    0]\n",
      " [   0 1399    0    0    0    0    0    6    0    0]\n",
      " [   1    0 1248    0    1    0    0    2    1    0]\n",
      " [   0    1    4 1294    0    6    0    0    0    0]\n",
      " [   0    0    0    0 1217    0    1    2    0    2]\n",
      " [   1    0    0    1    1 1132    2    0    1    1]\n",
      " [   2    2    2    0    2    0 1231    0    2    0]\n",
      " [   0    3    3    0    1    0    0 1313    0    0]\n",
      " [   1    2    5    1    2    3    4    0 1199    2]\n",
      " [   1    0    2    0    7    1    0    6    4 1235]]\n",
      "\n",
      "Accuracy:  [99.93650794 99.88888889 99.83333333 99.8968254  99.84920635 99.86507937\n",
      " 99.84920635 99.81746032 99.77777778 99.79365079] %\n",
      "\n",
      "FPR:  [0.00052817 0.0007146  0.00141006 0.00017707 0.00123044 0.00087252\n",
      " 0.00079232 0.00141844 0.00070293 0.00044076]\n",
      "\n",
      "TPR:  [0.9983871  0.99572954 0.99600958 0.99157088 0.99590835 0.99385426\n",
      " 0.99194198 0.99469697 0.98359311 0.98328025]\n",
      "\n",
      "\n",
      " Model 10\n",
      "Train: [0.020741430156225774, 0.9944218]\n",
      "Valid: [0.027551656559489785, 0.99349207]\n"
     ]
    },
    {
     "data": {
      "image/png": "[encoded data removed]",
      "text/plain": [
       "<Figure size 300x300 with 2 Axes>"
      ]
     },
     "metadata": {
      "tags": []
     },
     "output_type": "display_data"
    },
    {
     "name": "stdout",
     "output_type": "stream",
     "text": [
      "\n",
      "Confusion Matrix:\n",
      "[[1240    0    0    0    0    0    0    0    0    0]\n",
      " [   0 1396    2    0    0    0    0    7    0    0]\n",
      " [   1    0 1247    1    2    0    0    1    1    0]\n",
      " [   0    0    0 1297    0    4    0    4    0    0]\n",
      " [   0    0    0    0 1218    0    1    0    0    3]\n",
      " [   0    0    0    0    1 1128    5    1    3    1]\n",
      " [   3    1    1    0    3    0 1231    0    2    0]\n",
      " [   0    2    1    0    2    0    0 1315    0    0]\n",
      " [   1    1    2    1    5    1    0    1 1204    3]\n",
      " [   2    0    1    0    4    2    0    3    2 1242]]\n",
      "\n",
      "Accuracy:  [99.94444444 99.8968254  99.8968254  99.92063492 99.83333333 99.85714286\n",
      " 99.87301587 99.82539683 99.81746032 99.83333333] %\n",
      "\n",
      "FPR:  [0.0006162  0.0003573  0.0006169  0.00017707 0.00149411 0.00061077\n",
      " 0.00052822 0.00150709 0.00070293 0.00061707]\n",
      "\n",
      "TPR:  [1.         0.99359431 0.99521149 0.99386973 0.99672668 0.99034241\n",
      " 0.99194198 0.99621212 0.98769483 0.9888535 ]\n"
     ]
    }
   ],
   "source": [
    "for i in range(11):  \n",
    "  print('\\n\\n Model',i)\n",
    "  print('Train:', m[i].evaluate(X_train, Y_train, verbose=0))\n",
    "  print('Valid:', m[i].evaluate(X_valid, Y_valid, verbose=0))\n",
    "  plot(X_valid, Y_valid, m[i])"
   ]
  },
  {
   "cell_type": "markdown",
   "metadata": {
    "colab_type": "text",
    "id": "jnykZI6eG-WR"
   },
   "source": [
    "### Ensemble Scores on Train and Valid"
   ]
  },
  {
   "cell_type": "markdown",
   "metadata": {
    "colab_type": "text",
    "id": "8YdjRfQhfvuS"
   },
   "source": [
    "* Using only ReLU activation Models as they perform better."
   ]
  },
  {
   "cell_type": "markdown",
   "metadata": {
    "colab_type": "text",
    "id": "lhL8Bvp2HFY_"
   },
   "source": [
    "##### Training Split Scores"
   ]
  },
  {
   "cell_type": "code",
   "execution_count": 108,
   "metadata": {
    "colab": {
     "base_uri": "https://localhost:8080/",
     "height": 870
    },
    "colab_type": "code",
    "id": "hSroINlTvlB-",
    "outputId": "a0db9862-5848-4e1e-ee4e-5d7d1796d52e"
   },
   "outputs": [
    {
     "name": "stdout",
     "output_type": "stream",
     "text": [
      "Peak into predictions\n",
      "Model 6 : [5 2 5 ... 1 3 1]\n",
      "Model 7 : [5 2 5 ... 1 3 1]\n",
      "Model 8 : [5 2 5 ... 1 3 1]\n",
      "Model 9 : [5 2 5 ... 1 3 1]\n",
      "Model 10 : [5 2 5 ... 1 3 1]\n",
      "\n",
      "\n",
      "Train Metrics:\n"
     ]
    },
    {
     "data": {
      "image/png": "[encoded data removed]",
      "text/plain": [
       "<Figure size 300x300 with 2 Axes>"
      ]
     },
     "metadata": {
      "tags": []
     },
     "output_type": "display_data"
    },
    {
     "name": "stdout",
     "output_type": "stream",
     "text": [
      "\n",
      "Confusion Matrix:\n",
      "[[2891    0    0    0    0    0    1    0    0    0]\n",
      " [   0 3257    1    0    4    0    0   15    2    0]\n",
      " [   3    3 2902    0    1    0    0   15    0    0]\n",
      " [   0    0    2 3031    0    3    0    4    4    2]\n",
      " [   0    2    0    0 2830    0    0    2    0   16]\n",
      " [   0    0    0    1    1 2639   11    1    1    2]\n",
      " [   3    0    0    1    5    4 2881    0    2    0]\n",
      " [   0    1    6    0    4    0    0 3069    0    1]\n",
      " [   1    1    2    1    2    2    3    1 2828    3]\n",
      " [   3    0    0    0   10    2    0    5    4 2908]]\n",
      "\n",
      "Accuracy:  [99.96258503 99.90136054 99.8877551  99.93877551 99.84013605 99.9047619\n",
      " 99.89795918 99.81292517 99.90136054 99.83673469] %\n",
      "\n",
      "FPR:  [0.00037724 0.00026798 0.00041547 0.00011383 0.00101695 0.00041131\n",
      " 0.00056595 0.0016338  0.00048953 0.00090676]\n",
      "\n",
      "TPR:  [0.99965422 0.99329064 0.99247606 0.99507551 0.99298246 0.9935994\n",
      " 0.99482044 0.99610516 0.99437412 0.99181446]\n",
      "\n",
      "\n",
      "Training Overall Accuracy: 0.9959863945578231\n"
     ]
    }
   ],
   "source": [
    "pred = np.zeros((X_train.shape[0],10))\n",
    "\n",
    "print(\"Peak into predictions\")\n",
    "for i in range(6,11):\n",
    "  pred += m[i].predict(X_train)\n",
    "  print(\"Model\",i,\":\",np.argmax(pred, axis=-1))\n",
    "\n",
    "pred = np.argmax(pred, axis=-1)\n",
    "print(\"\\n\\nTrain Metrics:\")\n",
    "plot(X_train, Y_train, m[i])\n",
    "print(\"\\n\\nTraining Overall Accuracy:\", accuracy_score(Y_train,pred))"
   ]
  },
  {
   "cell_type": "markdown",
   "metadata": {
    "colab_type": "text",
    "id": "suGuJ8DMHIhe"
   },
   "source": [
    "##### Validation Split Scores"
   ]
  },
  {
   "cell_type": "code",
   "execution_count": 106,
   "metadata": {
    "colab": {
     "base_uri": "https://localhost:8080/",
     "height": 870
    },
    "colab_type": "code",
    "id": "4j_R-ui6GEks",
    "outputId": "60150721-9ed0-4d6c-8c1e-0055666db7a5"
   },
   "outputs": [
    {
     "name": "stdout",
     "output_type": "stream",
     "text": [
      "Peak into predictions\n",
      "Model 6 : [6 9 3 ... 3 8 5]\n",
      "Model 7 : [6 9 3 ... 3 8 5]\n",
      "Model 8 : [6 9 3 ... 3 8 5]\n",
      "Model 9 : [6 9 3 ... 3 8 5]\n",
      "Model 10 : [6 9 3 ... 3 8 5]\n",
      "\n",
      "\n",
      "Validation Metrics:\n"
     ]
    },
    {
     "data": {
      "image/png": "[encoded data removed]",
      "text/plain": [
       "<Figure size 300x300 with 2 Axes>"
      ]
     },
     "metadata": {
      "tags": []
     },
     "output_type": "display_data"
    },
    {
     "name": "stdout",
     "output_type": "stream",
     "text": [
      "\n",
      "Confusion Matrix:\n",
      "[[1240    0    0    0    0    0    0    0    0    0]\n",
      " [   0 1396    2    0    0    0    0    7    0    0]\n",
      " [   1    0 1247    1    2    0    0    1    1    0]\n",
      " [   0    0    0 1297    0    4    0    4    0    0]\n",
      " [   0    0    0    0 1218    0    1    0    0    3]\n",
      " [   0    0    0    0    1 1128    5    1    3    1]\n",
      " [   3    1    1    0    3    0 1231    0    2    0]\n",
      " [   0    2    1    0    2    0    0 1315    0    0]\n",
      " [   1    1    2    1    5    1    0    1 1204    3]\n",
      " [   2    0    1    0    4    2    0    3    2 1242]]\n",
      "\n",
      "Accuracy:  [99.94444444 99.8968254  99.8968254  99.92063492 99.83333333 99.85714286\n",
      " 99.87301587 99.82539683 99.81746032 99.83333333] %\n",
      "\n",
      "FPR:  [0.0006162  0.0003573  0.0006169  0.00017707 0.00149411 0.00061077\n",
      " 0.00052822 0.00150709 0.00070293 0.00061707]\n",
      "\n",
      "TPR:  [1.         0.99359431 0.99521149 0.99386973 0.99672668 0.99034241\n",
      " 0.99194198 0.99621212 0.98769483 0.9888535 ]\n",
      "\n",
      "\n",
      "Validation Overall Accuracy: 0.9941269841269841\n"
     ]
    }
   ],
   "source": [
    "pred = np.zeros((X_valid.shape[0],10))\n",
    "\n",
    "print(\"Peak into predictions\")\n",
    "for i in range(6,11):\n",
    "  pred += m[i].predict(X_valid)\n",
    "  print(\"Model\",i,\":\",np.argmax(pred, axis=-1))\n",
    "\n",
    "pred = np.argmax(pred, axis=-1)\n",
    "print(\"\\n\\nValidation Metrics:\")\n",
    "plot(X_valid, Y_valid, m[i])\n",
    "\n",
    "print(\"\\n\\nValidation Overall Accuracy:\", accuracy_score(Y_valid,pred))"
   ]
  },
  {
   "cell_type": "code",
   "execution_count": 0,
   "metadata": {
    "colab": {},
    "colab_type": "code",
    "id": "jN-LPJ75W5W2"
   },
   "outputs": [],
   "source": []
  }
 ],
 "metadata": {
  "accelerator": "GPU",
  "colab": {
   "authorship_tag": "ABX9TyN21UHPIXWmN4yhK1JvySVD",
   "collapsed_sections": [],
   "mount_file_id": "1ukODwc5jJqE8seidpzQIYquws5Xrn5CY",
   "name": "Jumio Assignment.ipynb",
   "provenance": [],
   "toc_visible": true
  },
  "kernelspec": {
   "display_name": "Python 3",
   "language": "python",
   "name": "python3"
  },
  "language_info": {
   "codemirror_mode": {
    "name": "ipython",
    "version": 3
   },
   "file_extension": ".py",
   "mimetype": "text/x-python",
   "name": "python",
   "nbconvert_exporter": "python",
   "pygments_lexer": "ipython3",
   "version": "3.7.5"
  }
 },
 "nbformat": 4,
 "nbformat_minor": 1
}
